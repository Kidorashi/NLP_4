{
 "cells": [
  {
   "cell_type": "markdown",
   "metadata": {},
   "source": [
    "## NER - Natasha"
   ]
  },
  {
   "cell_type": "markdown",
   "metadata": {},
   "source": [
    "Natasha  - питоновская библиотека для извлечения именованных сущностей. Она похоже на Tomita-parser, но в ней все на чистом питоне, с открытым кодом и активно развивается. "
   ]
  },
  {
   "cell_type": "markdown",
   "metadata": {},
   "source": [
    "Если быть точнее, то natasha - набор готовых правил для парсера yargy. "
   ]
  },
  {
   "cell_type": "markdown",
   "metadata": {},
   "source": [
    "Есть например готовые правила для извлечения персон."
   ]
  },
  {
   "cell_type": "code",
   "execution_count": 1,
   "metadata": {
    "collapsed": true
   },
   "outputs": [],
   "source": [
    "# Установить можно через pip.\n",
    "from natasha import NamesExtractor"
   ]
  },
  {
   "cell_type": "code",
   "execution_count": 2,
   "metadata": {
    "collapsed": true
   },
   "outputs": [],
   "source": [
    "sents = open('sents.txt', encoding = 'UTF-8').read().splitlines()"
   ]
  },
  {
   "cell_type": "code",
   "execution_count": 3,
   "metadata": {
    "collapsed": true
   },
   "outputs": [],
   "source": [
    "extractor = NamesExtractor()"
   ]
  },
  {
   "cell_type": "code",
   "execution_count": null,
   "metadata": {
    "collapsed": true
   },
   "outputs": [],
   "source": [
    "extractor('\\n'.join(sents))"
   ]
  },
  {
   "cell_type": "code",
   "execution_count": null,
   "metadata": {
    "collapsed": true
   },
   "outputs": [],
   "source": [
    "from natasha import NamesExtractor\n",
    "extractor = NamesExtractor()\n",
    "matches = extractor('.'.join(sents))\n",
    "for match in matches:\n",
    "    print(match.span, match.fact)"
   ]
  },
  {
   "cell_type": "markdown",
   "metadata": {},
   "source": [
    "Видно, что извлекается не очень хорошо. К тому же в реальной задаче нам потребуется извлекать ещё какие-то аттрибуты сущностей и группировать их в факты. И не обязательно этих типов. Поэтому полезно разобраться с самим парсером yargy."
   ]
  },
  {
   "cell_type": "markdown",
   "metadata": {},
   "source": [
    "Документация yargy: https://yargy.readthedocs.io/ru/latest/reference.html"
   ]
  },
  {
   "cell_type": "markdown",
   "metadata": {},
   "source": [
    "Лучше всего с такими штуками разбираться на практике. Давайте попробуем написать правила для извлечения персон. Каждая персона должна описываться 3 полями - Имя, Фамилия, Отчество. Также у Персоны должны быть атрибуты - должность и место работы. "
   ]
  },
  {
   "cell_type": "markdown",
   "metadata": {},
   "source": [
    "За основу возьмем пример из документации:"
   ]
  },
  {
   "cell_type": "code",
   "execution_count": 13,
   "metadata": {},
   "outputs": [],
   "source": [
    "from yargy import Parser, rule, or_, and_\n",
    "from yargy.predicates import gram\n",
    "from yargy.pipelines import morph_pipeline\n",
    "from yargy.interpretation import fact, attribute\n",
    "from IPython.display import display\n",
    "from yargy.relations import gnc_relation\n",
    "gnc = gnc_relation()\n",
    "\n",
    "Person = fact(\n",
    "    'Person',\n",
    "    ['position', 'name']\n",
    ")\n",
    "Name = fact(\n",
    "    'Name',\n",
    "    ['first', 'last', 'patr']\n",
    ")\n",
    "\n",
    "\n",
    "POSITION = morph_pipeline([\n",
    "    'президент',\n",
    "    'Премьер-министр',\n",
    "    'премьер',\n",
    "    'экс-министр',\n",
    "    'министр финансов',\n",
    "    'министр внутренних дел',\n",
    "    'министр иностранных дел',\n",
    "    'министр обороны',\n",
    "    'мэр'\n",
    "])\n",
    "\n",
    "NAME = or_(\n",
    "    rule(\n",
    "        gram('Name').interpretation(Name.first.inflected()),\n",
    "        gram('Surn').interpretation(Name.last.inflected())\n",
    "    ).interpretation(Name),\n",
    "    rule(\n",
    "        gram('Name').interpretation(Name.first.inflected()),\n",
    "    ).interpretation(Name),\n",
    "    gram('Patr').interpretation(Name.patr.inflected()),\n",
    "    gram('Surn').interpretation(Name.last.inflected()).interpretation(Name)\n",
    ")\n",
    "\n",
    "PERSON = rule(POSITION.interpretation(Person.position.inflected()),\n",
    "    NAME.interpretation(Person.name)).interpretation(Person)\n",
    "\n",
    "\n",
    "parser = Parser(PERSON)"
   ]
  },
  {
   "cell_type": "code",
   "execution_count": 19,
   "metadata": {},
   "outputs": [
    {
     "data": {
      "text/plain": [
       "Person(position='премьер-министр',\n",
       "       name=Name(first='израиль',\n",
       "                 last=None,\n",
       "                 patr=None))"
      ]
     },
     "metadata": {},
     "output_type": "display_data"
    },
    {
     "name": "stdout",
     "output_type": "stream",
     "text": [
      "---------------\n"
     ]
    },
    {
     "data": {
      "text/plain": [
       "Person(position='премьер-министр',\n",
       "       name=Name(first='нетаньяха',\n",
       "                 last=None,\n",
       "                 patr=None))"
      ]
     },
     "metadata": {},
     "output_type": "display_data"
    },
    {
     "name": "stdout",
     "output_type": "stream",
     "text": [
      "---------------\n"
     ]
    },
    {
     "data": {
      "text/plain": [
       "Person(position='премьер-министр',\n",
       "       name=Name(first='алексис',\n",
       "                 last=None,\n",
       "                 patr=None))"
      ]
     },
     "metadata": {},
     "output_type": "display_data"
    },
    {
     "name": "stdout",
     "output_type": "stream",
     "text": [
      "---------------\n"
     ]
    },
    {
     "data": {
      "text/plain": [
       "Person(position='премьер',\n",
       "       name=Name(first=None,\n",
       "                 last='зубков',\n",
       "                 patr=None))"
      ]
     },
     "metadata": {},
     "output_type": "display_data"
    },
    {
     "name": "stdout",
     "output_type": "stream",
     "text": [
      "---------------\n"
     ]
    },
    {
     "data": {
      "text/plain": [
       "Person(position='премьер-министр',\n",
       "       name=Name(first='дмитрий',\n",
       "                 last='медведев',\n",
       "                 patr=None))"
      ]
     },
     "metadata": {},
     "output_type": "display_data"
    },
    {
     "name": "stdout",
     "output_type": "stream",
     "text": [
      "---------------\n"
     ]
    },
    {
     "data": {
      "text/plain": [
       "Person(position='министр иностранный дело',\n",
       "       name=Name(first='давид',\n",
       "                 last='бакрадзе',\n",
       "                 patr=None))"
      ]
     },
     "metadata": {},
     "output_type": "display_data"
    },
    {
     "name": "stdout",
     "output_type": "stream",
     "text": [
      "---------------\n"
     ]
    },
    {
     "data": {
      "text/plain": [
       "Person(position='президент',\n",
       "       name=Name(first='гурбангул',\n",
       "                 last='бердымухамедов',\n",
       "                 patr=None))"
      ]
     },
     "metadata": {},
     "output_type": "display_data"
    },
    {
     "name": "stdout",
     "output_type": "stream",
     "text": [
      "---------------\n"
     ]
    },
    {
     "data": {
      "text/plain": [
       "Person(position='министр оборона',\n",
       "       name=Name(first='виталие',\n",
       "                 last=None,\n",
       "                 patr=None))"
      ]
     },
     "metadata": {},
     "output_type": "display_data"
    },
    {
     "name": "stdout",
     "output_type": "stream",
     "text": [
      "---------------\n"
     ]
    },
    {
     "data": {
      "text/plain": [
       "Person(position='министр иностранный дело',\n",
       "       name=Name(first='сергей',\n",
       "                 last='лавров',\n",
       "                 patr=None))"
      ]
     },
     "metadata": {},
     "output_type": "display_data"
    },
    {
     "name": "stdout",
     "output_type": "stream",
     "text": [
      "---------------\n"
     ]
    },
    {
     "data": {
      "text/plain": [
       "Person(position='премьер',\n",
       "       name=Name(first='дмитрий',\n",
       "                 last='медведев',\n",
       "                 patr=None))"
      ]
     },
     "metadata": {},
     "output_type": "display_data"
    },
    {
     "name": "stdout",
     "output_type": "stream",
     "text": [
      "---------------\n"
     ]
    },
    {
     "data": {
      "text/plain": [
       "Person(position='министр оборона',\n",
       "       name=Name(first='роберт',\n",
       "                 last=None,\n",
       "                 patr=None))"
      ]
     },
     "metadata": {},
     "output_type": "display_data"
    },
    {
     "name": "stdout",
     "output_type": "stream",
     "text": [
      "---------------\n"
     ]
    },
    {
     "data": {
      "text/plain": [
       "Person(position='премьер-министр',\n",
       "       name=Name(first='дмитрий',\n",
       "                 last='медведев',\n",
       "                 patr=None))"
      ]
     },
     "metadata": {},
     "output_type": "display_data"
    },
    {
     "name": "stdout",
     "output_type": "stream",
     "text": [
      "---------------\n"
     ]
    },
    {
     "data": {
      "text/plain": [
       "Person(position='министр оборона',\n",
       "       name=Name(first='еуджена',\n",
       "                 last=None,\n",
       "                 patr=None))"
      ]
     },
     "metadata": {},
     "output_type": "display_data"
    },
    {
     "name": "stdout",
     "output_type": "stream",
     "text": [
      "---------------\n"
     ]
    },
    {
     "data": {
      "text/plain": [
       "Person(position='министр оборона',\n",
       "       name=Name(first='еуджена',\n",
       "                 last=None,\n",
       "                 patr=None))"
      ]
     },
     "metadata": {},
     "output_type": "display_data"
    },
    {
     "name": "stdout",
     "output_type": "stream",
     "text": [
      "---------------\n"
     ]
    },
    {
     "data": {
      "text/plain": [
       "Person(position='министр иностранный дело',\n",
       "       name=Name(first='рашид',\n",
       "                 last=None,\n",
       "                 patr=None))"
      ]
     },
     "metadata": {},
     "output_type": "display_data"
    },
    {
     "name": "stdout",
     "output_type": "stream",
     "text": [
      "---------------\n"
     ]
    },
    {
     "data": {
      "text/plain": [
       "Person(position='министр оборона',\n",
       "       name=Name(first='виталие',\n",
       "                 last=None,\n",
       "                 patr=None))"
      ]
     },
     "metadata": {},
     "output_type": "display_data"
    },
    {
     "name": "stdout",
     "output_type": "stream",
     "text": [
      "---------------\n"
     ]
    },
    {
     "data": {
      "text/plain": [
       "Person(position='премьер-министр',\n",
       "       name=Name(first='нарендра',\n",
       "                 last=None,\n",
       "                 patr=None))"
      ]
     },
     "metadata": {},
     "output_type": "display_data"
    },
    {
     "name": "stdout",
     "output_type": "stream",
     "text": [
      "---------------\n"
     ]
    },
    {
     "data": {
      "text/plain": [
       "Person(position='премьер-министр',\n",
       "       name=Name(first='владимир',\n",
       "                 last='гройсман',\n",
       "                 patr=None))"
      ]
     },
     "metadata": {},
     "output_type": "display_data"
    },
    {
     "name": "stdout",
     "output_type": "stream",
     "text": [
      "---------------\n"
     ]
    },
    {
     "data": {
      "text/plain": [
       "Person(position='премьер-министр',\n",
       "       name=Name(first='владимир',\n",
       "                 last='гройсман',\n",
       "                 patr=None))"
      ]
     },
     "metadata": {},
     "output_type": "display_data"
    },
    {
     "name": "stdout",
     "output_type": "stream",
     "text": [
      "---------------\n"
     ]
    },
    {
     "data": {
      "text/plain": [
       "Person(position='премьер-министр',\n",
       "       name=Name(first='ахмед',\n",
       "                 last=None,\n",
       "                 patr=None))"
      ]
     },
     "metadata": {},
     "output_type": "display_data"
    },
    {
     "name": "stdout",
     "output_type": "stream",
     "text": [
      "---------------\n"
     ]
    },
    {
     "data": {
      "text/plain": [
       "Person(position='премьер-министр',\n",
       "       name=Name(first='лешек',\n",
       "                 last='миллер',\n",
       "                 patr=None))"
      ]
     },
     "metadata": {},
     "output_type": "display_data"
    },
    {
     "name": "stdout",
     "output_type": "stream",
     "text": [
      "---------------\n"
     ]
    },
    {
     "data": {
      "text/plain": [
       "Person(position='премьер-министр',\n",
       "       name=Name(first=None,\n",
       "                 last='бойко',\n",
       "                 patr=None))"
      ]
     },
     "metadata": {},
     "output_type": "display_data"
    },
    {
     "name": "stdout",
     "output_type": "stream",
     "text": [
      "---------------\n"
     ]
    },
    {
     "data": {
      "text/plain": [
       "Person(position='премьер-министр',\n",
       "       name=Name(first=None,\n",
       "                 last='синдзо',\n",
       "                 patr=None))"
      ]
     },
     "metadata": {},
     "output_type": "display_data"
    },
    {
     "name": "stdout",
     "output_type": "stream",
     "text": [
      "---------------\n"
     ]
    },
    {
     "data": {
      "text/plain": [
       "Person(position='президент',\n",
       "       name=Name(first=None,\n",
       "                 last='путин',\n",
       "                 patr=None))"
      ]
     },
     "metadata": {},
     "output_type": "display_data"
    },
    {
     "name": "stdout",
     "output_type": "stream",
     "text": [
      "---------------\n"
     ]
    },
    {
     "data": {
      "text/plain": [
       "Person(position='премьер-министр',\n",
       "       name=Name(first='ахмед',\n",
       "                 last=None,\n",
       "                 patr=None))"
      ]
     },
     "metadata": {},
     "output_type": "display_data"
    },
    {
     "name": "stdout",
     "output_type": "stream",
     "text": [
      "---------------\n"
     ]
    },
    {
     "data": {
      "text/plain": [
       "Person(position='премьер-министр',\n",
       "       name=Name(first=None,\n",
       "                 last='синдзо',\n",
       "                 patr=None))"
      ]
     },
     "metadata": {},
     "output_type": "display_data"
    },
    {
     "name": "stdout",
     "output_type": "stream",
     "text": [
      "---------------\n"
     ]
    },
    {
     "data": {
      "text/plain": [
       "Person(position='премьер-министр',\n",
       "       name=Name(first='голд',\n",
       "                 last=None,\n",
       "                 patr=None))"
      ]
     },
     "metadata": {},
     "output_type": "display_data"
    },
    {
     "name": "stdout",
     "output_type": "stream",
     "text": [
      "---------------\n"
     ]
    },
    {
     "data": {
      "text/plain": [
       "Person(position='премьер-министр',\n",
       "       name=Name(first='павел',\n",
       "                 last=None,\n",
       "                 patr=None))"
      ]
     },
     "metadata": {},
     "output_type": "display_data"
    },
    {
     "name": "stdout",
     "output_type": "stream",
     "text": [
      "---------------\n"
     ]
    },
    {
     "data": {
      "text/plain": [
       "Person(position='премьер-министр',\n",
       "       name=Name(first='алексис',\n",
       "                 last=None,\n",
       "                 patr=None))"
      ]
     },
     "metadata": {},
     "output_type": "display_data"
    },
    {
     "name": "stdout",
     "output_type": "stream",
     "text": [
      "---------------\n"
     ]
    },
    {
     "data": {
      "text/plain": [
       "Person(position='премьер-министр',\n",
       "       name=Name(first='алексис',\n",
       "                 last=None,\n",
       "                 patr=None))"
      ]
     },
     "metadata": {},
     "output_type": "display_data"
    },
    {
     "name": "stdout",
     "output_type": "stream",
     "text": [
      "---------------\n"
     ]
    },
    {
     "data": {
      "text/plain": [
       "Person(position='министр иностранный дело',\n",
       "       name=Name(first='хайко',\n",
       "                 last=None,\n",
       "                 patr=None))"
      ]
     },
     "metadata": {},
     "output_type": "display_data"
    },
    {
     "name": "stdout",
     "output_type": "stream",
     "text": [
      "---------------\n"
     ]
    },
    {
     "data": {
      "text/plain": [
       "Person(position='премьер',\n",
       "       name=Name(first='игорь',\n",
       "                 last='шувалов',\n",
       "                 patr=None))"
      ]
     },
     "metadata": {},
     "output_type": "display_data"
    },
    {
     "name": "stdout",
     "output_type": "stream",
     "text": [
      "---------------\n"
     ]
    },
    {
     "data": {
      "text/plain": [
       "Person(position='премьер-министр',\n",
       "       name=Name(first=None,\n",
       "                 last='синдзо',\n",
       "                 patr=None))"
      ]
     },
     "metadata": {},
     "output_type": "display_data"
    },
    {
     "name": "stdout",
     "output_type": "stream",
     "text": [
      "---------------\n"
     ]
    },
    {
     "data": {
      "text/plain": [
       "Person(position='премьер-министр',\n",
       "       name=Name(first='ахмед',\n",
       "                 last=None,\n",
       "                 patr=None))"
      ]
     },
     "metadata": {},
     "output_type": "display_data"
    },
    {
     "name": "stdout",
     "output_type": "stream",
     "text": [
      "---------------\n"
     ]
    },
    {
     "data": {
      "text/plain": [
       "Person(position='министр иностранный дело',\n",
       "       name=Name(first='сергей',\n",
       "                 last='лавров',\n",
       "                 patr=None))"
      ]
     },
     "metadata": {},
     "output_type": "display_data"
    },
    {
     "name": "stdout",
     "output_type": "stream",
     "text": [
      "---------------\n"
     ]
    },
    {
     "data": {
      "text/plain": [
       "Person(position='премьер',\n",
       "       name=Name(first='александр',\n",
       "                 last='хлопонин',\n",
       "                 patr=None))"
      ]
     },
     "metadata": {},
     "output_type": "display_data"
    },
    {
     "name": "stdout",
     "output_type": "stream",
     "text": [
      "---------------\n"
     ]
    },
    {
     "data": {
      "text/plain": [
       "Person(position='премьер-министр',\n",
       "       name=Name(first='дмитрия',\n",
       "                 last='медведев',\n",
       "                 patr=None))"
      ]
     },
     "metadata": {},
     "output_type": "display_data"
    },
    {
     "name": "stdout",
     "output_type": "stream",
     "text": [
      "---------------\n"
     ]
    },
    {
     "data": {
      "text/plain": [
       "Person(position='министр иностранный дело',\n",
       "       name=Name(first='сергей',\n",
       "                 last='лавров',\n",
       "                 patr=None))"
      ]
     },
     "metadata": {},
     "output_type": "display_data"
    },
    {
     "name": "stdout",
     "output_type": "stream",
     "text": [
      "---------------\n"
     ]
    },
    {
     "data": {
      "text/plain": [
       "Person(position='премьер',\n",
       "       name=Name(first='махмуд',\n",
       "                 last='аббас',\n",
       "                 patr=None))"
      ]
     },
     "metadata": {},
     "output_type": "display_data"
    },
    {
     "name": "stdout",
     "output_type": "stream",
     "text": [
      "---------------\n"
     ]
    },
    {
     "data": {
      "text/plain": [
       "Person(position='премьер-министр',\n",
       "       name=Name(first='голд',\n",
       "                 last=None,\n",
       "                 patr=None))"
      ]
     },
     "metadata": {},
     "output_type": "display_data"
    },
    {
     "name": "stdout",
     "output_type": "stream",
     "text": [
      "---------------\n"
     ]
    },
    {
     "data": {
      "text/plain": [
       "Person(position='президент',\n",
       "       name=Name(first='виктор',\n",
       "                 last='ющенко',\n",
       "                 patr=None))"
      ]
     },
     "metadata": {},
     "output_type": "display_data"
    },
    {
     "name": "stdout",
     "output_type": "stream",
     "text": [
      "---------------\n"
     ]
    },
    {
     "data": {
      "text/plain": [
       "Person(position='премьер',\n",
       "       name=Name(first='дмитрий',\n",
       "                 last='рогозин',\n",
       "                 patr=None))"
      ]
     },
     "metadata": {},
     "output_type": "display_data"
    },
    {
     "name": "stdout",
     "output_type": "stream",
     "text": [
      "---------------\n"
     ]
    },
    {
     "data": {
      "text/plain": [
       "Person(position='премьер',\n",
       "       name=Name(first='юлий',\n",
       "                 last='тимошенко',\n",
       "                 patr=None))"
      ]
     },
     "metadata": {},
     "output_type": "display_data"
    },
    {
     "name": "stdout",
     "output_type": "stream",
     "text": [
      "---------------\n"
     ]
    },
    {
     "data": {
      "text/plain": [
       "Person(position='премьер',\n",
       "       name=Name(first='игорь',\n",
       "                 last='шувалов',\n",
       "                 patr=None))"
      ]
     },
     "metadata": {},
     "output_type": "display_data"
    },
    {
     "name": "stdout",
     "output_type": "stream",
     "text": [
      "---------------\n"
     ]
    },
    {
     "data": {
      "text/plain": [
       "Person(position='премьер',\n",
       "       name=Name(first='дмитрий',\n",
       "                 last='медведев',\n",
       "                 patr=None))"
      ]
     },
     "metadata": {},
     "output_type": "display_data"
    },
    {
     "name": "stdout",
     "output_type": "stream",
     "text": [
      "---------------\n"
     ]
    },
    {
     "data": {
      "text/plain": [
       "Person(position='премьер',\n",
       "       name=Name(first='игорь',\n",
       "                 last='шувалов',\n",
       "                 patr=None))"
      ]
     },
     "metadata": {},
     "output_type": "display_data"
    },
    {
     "name": "stdout",
     "output_type": "stream",
     "text": [
      "---------------\n"
     ]
    },
    {
     "data": {
      "text/plain": [
       "Person(position='премьер',\n",
       "       name=Name(first='дэвид',\n",
       "                 last=None,\n",
       "                 patr=None))"
      ]
     },
     "metadata": {},
     "output_type": "display_data"
    },
    {
     "name": "stdout",
     "output_type": "stream",
     "text": [
      "---------------\n"
     ]
    },
    {
     "data": {
      "text/plain": [
       "Person(position='министр финансы',\n",
       "       name=Name(first='алексей',\n",
       "                 last='кудрин',\n",
       "                 patr=None))"
      ]
     },
     "metadata": {},
     "output_type": "display_data"
    },
    {
     "name": "stdout",
     "output_type": "stream",
     "text": [
      "---------------\n"
     ]
    },
    {
     "data": {
      "text/plain": [
       "Person(position='премьер-министр',\n",
       "       name=Name(first='алексис',\n",
       "                 last=None,\n",
       "                 patr=None))"
      ]
     },
     "metadata": {},
     "output_type": "display_data"
    },
    {
     "name": "stdout",
     "output_type": "stream",
     "text": [
      "---------------\n"
     ]
    },
    {
     "data": {
      "text/plain": [
       "Person(position='премьер-министр',\n",
       "       name=Name(first='биньямин',\n",
       "                 last=None,\n",
       "                 patr=None))"
      ]
     },
     "metadata": {},
     "output_type": "display_data"
    },
    {
     "name": "stdout",
     "output_type": "stream",
     "text": [
      "---------------\n"
     ]
    },
    {
     "data": {
      "text/plain": [
       "Person(position='премьер',\n",
       "       name=Name(first='александр',\n",
       "                 last='хлопонин',\n",
       "                 patr=None))"
      ]
     },
     "metadata": {},
     "output_type": "display_data"
    },
    {
     "name": "stdout",
     "output_type": "stream",
     "text": [
      "---------------\n"
     ]
    },
    {
     "data": {
      "text/plain": [
       "Person(position='премьер-министр',\n",
       "       name=Name(first='дмитрия',\n",
       "                 last='медведев',\n",
       "                 patr=None))"
      ]
     },
     "metadata": {},
     "output_type": "display_data"
    },
    {
     "name": "stdout",
     "output_type": "stream",
     "text": [
      "---------------\n"
     ]
    },
    {
     "data": {
      "text/plain": [
       "Person(position='президент',\n",
       "       name=Name(first='владимир',\n",
       "                 last='путин',\n",
       "                 patr=None))"
      ]
     },
     "metadata": {},
     "output_type": "display_data"
    },
    {
     "name": "stdout",
     "output_type": "stream",
     "text": [
      "---------------\n"
     ]
    },
    {
     "data": {
      "text/plain": [
       "Person(position='министр оборона',\n",
       "       name=Name(first='сергей',\n",
       "                 last='шойгу',\n",
       "                 patr=None))"
      ]
     },
     "metadata": {},
     "output_type": "display_data"
    },
    {
     "name": "stdout",
     "output_type": "stream",
     "text": [
      "---------------\n"
     ]
    }
   ],
   "source": [
    "l = []\n",
    "for sent in sents:\n",
    "   \n",
    "    for match in parser.findall(sent):\n",
    "        #print(sent)\n",
    "        display(match.fact)\n",
    "        l.append(match.fact)\n",
    "        print('---------------')"
   ]
  },
  {
   "cell_type": "code",
   "execution_count": 18,
   "metadata": {},
   "outputs": [
    {
     "data": {
      "text/plain": [
       "54"
      ]
     },
     "execution_count": 18,
     "metadata": {},
     "output_type": "execute_result"
    }
   ],
   "source": [
    "len(l)"
   ]
  },
  {
   "cell_type": "markdown",
   "metadata": {},
   "source": [
    "Посмотрим, что получается:"
   ]
  },
  {
   "cell_type": "code",
   "execution_count": 8,
   "metadata": {},
   "outputs": [],
   "source": [
    "tokenizer = Tokenizer()"
   ]
  },
  {
   "cell_type": "code",
   "execution_count": 7,
   "metadata": {},
   "outputs": [
    {
     "data": {
      "text/plain": [
       "[Token('на', [0, 2), 'RU'),\n",
       " Token('сайте', [3, 8), 'RU'),\n",
       " Token('www.VKontakte.ru', [9, 25), 'DOMAIN')]"
      ]
     },
     "execution_count": 7,
     "metadata": {},
     "output_type": "execute_result"
    }
   ],
   "source": [
    "from yargy.tokenizer import TokenRule, Tokenizer\n",
    "\n",
    "\n",
    "DOMAIN_RULE = TokenRule('DOMAIN', '[a-zA-Z0-9-]+\\.[a-zA-Z0-9-.]+')\n",
    "\n",
    "\n",
    "text = 'на сайте www.VKontakte.ru'\n",
    "tokenizer = Tokenizer().add_rules(DOMAIN_RULE)\n",
    "list(tokenizer(text))"
   ]
  },
  {
   "cell_type": "markdown",
   "metadata": {},
   "source": [
    "Чтобы проверить какие морфологические тэги приписываются словам, можно использовать MorphTokenizer."
   ]
  },
  {
   "cell_type": "code",
   "execution_count": 24,
   "metadata": {
    "collapsed": true
   },
   "outputs": [],
   "source": [
    "from yargy.tokenizer import MorphTokenizer"
   ]
  },
  {
   "cell_type": "code",
   "execution_count": 25,
   "metadata": {
    "collapsed": true
   },
   "outputs": [],
   "source": [
    "tokenizer = MorphTokenizer()"
   ]
  },
  {
   "cell_type": "code",
   "execution_count": 38,
   "metadata": {},
   "outputs": [
    {
     "data": {
      "text/plain": [
       "[MorphToken('Израиль',\n",
       "            [0, 7),\n",
       "            'RU',\n",
       "            [Form('израиль', Grams(Geox,NOUN,Sgtm,accs,inan,masc,sing)),\n",
       "             Form('израиль', Grams(NOUN,Name,anim,masc,nomn,sing)),\n",
       "             Form('израиль', Grams(Geox,NOUN,Sgtm,inan,masc,nomn,sing))])]"
      ]
     },
     "execution_count": 38,
     "metadata": {},
     "output_type": "execute_result"
    }
   ],
   "source": [
    "list(tokenizer('Израиль'))"
   ]
  },
  {
   "cell_type": "markdown",
   "metadata": {},
   "source": [
    "## Задача на семинар:\n",
    "Доработать правила так, чтобы извлекалось как можно больше правильных фактов."
   ]
  }
 ],
 "metadata": {
  "kernelspec": {
   "display_name": "Python 3",
   "language": "python",
   "name": "python3"
  },
  "language_info": {
   "codemirror_mode": {
    "name": "ipython",
    "version": 3
   },
   "file_extension": ".py",
   "mimetype": "text/x-python",
   "name": "python",
   "nbconvert_exporter": "python",
   "pygments_lexer": "ipython3",
   "version": "3.6.2"
  }
 },
 "nbformat": 4,
 "nbformat_minor": 2
}
